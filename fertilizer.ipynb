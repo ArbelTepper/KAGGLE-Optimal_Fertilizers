{
 "cells": [
  {
   "cell_type": "code",
   "execution_count": 1,
   "id": "15bc5eb5",
   "metadata": {
    "_cell_guid": "b1076dfc-b9ad-4769-8c92-a6c4dae69d19",
    "_uuid": "8f2839f25d086af736a60e9eeb907d3b93b6e0e5",
    "execution": {
     "iopub.execute_input": "2025-07-08T15:54:07.949623Z",
     "iopub.status.busy": "2025-07-08T15:54:07.949310Z",
     "iopub.status.idle": "2025-07-08T15:54:09.584302Z",
     "shell.execute_reply": "2025-07-08T15:54:09.583383Z"
    },
    "papermill": {
     "duration": 1.641848,
     "end_time": "2025-07-08T15:54:09.585730",
     "exception": false,
     "start_time": "2025-07-08T15:54:07.943882",
     "status": "completed"
    },
    "tags": []
   },
   "outputs": [
    {
     "name": "stdout",
     "output_type": "stream",
     "text": [
      "/kaggle/input/playground-series-s5e6/sample_submission.csv\n",
      "/kaggle/input/playground-series-s5e6/train.csv\n",
      "/kaggle/input/playground-series-s5e6/test.csv\n"
     ]
    }
   ],
   "source": [
    "# This Python 3 environment comes with many helpful analytics libraries installed\n",
    "# It is defined by the kaggle/python Docker image: https://github.com/kaggle/docker-python\n",
    "# For example, here's several helpful packages to load\n",
    "\n",
    "import numpy as np # linear algebra\n",
    "import pandas as pd # data processing, CSV file I/O (e.g. pd.read_csv)\n",
    "\n",
    "# Input data files are available in the read-only \"../input/\" directory\n",
    "# For example, running this (by clicking run or pressing Shift+Enter) will list all files under the input directory\n",
    "\n",
    "import os\n",
    "for dirname, _, filenames in os.walk('/kaggle/input'):\n",
    "    for filename in filenames:\n",
    "        print(os.path.join(dirname, filename))\n",
    "\n",
    "# You can write up to 20GB to the current directory (/kaggle/working/) that gets preserved as output when you create a version using \"Save & Run All\" \n",
    "# You can also write temporary files to /kaggle/temp/, but they won't be saved outside of the current session"
   ]
  },
  {
   "cell_type": "code",
   "execution_count": 2,
   "id": "e9ebc258",
   "metadata": {
    "execution": {
     "iopub.execute_input": "2025-07-08T15:54:09.593157Z",
     "iopub.status.busy": "2025-07-08T15:54:09.592815Z",
     "iopub.status.idle": "2025-07-08T15:54:09.763037Z",
     "shell.execute_reply": "2025-07-08T15:54:09.762272Z"
    },
    "papermill": {
     "duration": 0.175297,
     "end_time": "2025-07-08T15:54:09.764503",
     "exception": false,
     "start_time": "2025-07-08T15:54:09.589206",
     "status": "completed"
    },
    "tags": []
   },
   "outputs": [
    {
     "name": "stdout",
     "output_type": "stream",
     "text": [
      "Tue Jul  8 15:54:09 2025       \r\n",
      "+-----------------------------------------------------------------------------------------+\r\n",
      "| NVIDIA-SMI 560.35.03              Driver Version: 560.35.03      CUDA Version: 12.6     |\r\n",
      "|-----------------------------------------+------------------------+----------------------+\r\n",
      "| GPU  Name                 Persistence-M | Bus-Id          Disp.A | Volatile Uncorr. ECC |\r\n",
      "| Fan  Temp   Perf          Pwr:Usage/Cap |           Memory-Usage | GPU-Util  Compute M. |\r\n",
      "|                                         |                        |               MIG M. |\r\n",
      "|=========================================+========================+======================|\r\n",
      "|   0  Tesla P100-PCIE-16GB           Off |   00000000:00:04.0 Off |                    0 |\r\n",
      "| N/A   40C    P0             27W /  250W |       0MiB /  16384MiB |      0%      Default |\r\n",
      "|                                         |                        |                  N/A |\r\n",
      "+-----------------------------------------+------------------------+----------------------+\r\n",
      "                                                                                         \r\n",
      "+-----------------------------------------------------------------------------------------+\r\n",
      "| Processes:                                                                              |\r\n",
      "|  GPU   GI   CI        PID   Type   Process name                              GPU Memory |\r\n",
      "|        ID   ID                                                               Usage      |\r\n",
      "|=========================================================================================|\r\n",
      "|  No running processes found                                                             |\r\n",
      "+-----------------------------------------------------------------------------------------+\r\n"
     ]
    }
   ],
   "source": [
    "!nvidia-smi"
   ]
  },
  {
   "cell_type": "code",
   "execution_count": 3,
   "id": "2f2c8749",
   "metadata": {
    "execution": {
     "iopub.execute_input": "2025-07-08T15:54:09.772637Z",
     "iopub.status.busy": "2025-07-08T15:54:09.772339Z",
     "iopub.status.idle": "2025-07-08T15:54:14.046511Z",
     "shell.execute_reply": "2025-07-08T15:54:14.045432Z"
    },
    "papermill": {
     "duration": 4.279945,
     "end_time": "2025-07-08T15:54:14.047936",
     "exception": false,
     "start_time": "2025-07-08T15:54:09.767991",
     "status": "completed"
    },
    "tags": []
   },
   "outputs": [
    {
     "name": "stdout",
     "output_type": "stream",
     "text": [
      "GPU 0: Tesla P100-PCIE-16GB\n"
     ]
    }
   ],
   "source": [
    "import torch\n",
    "\n",
    "torch.cuda.empty_cache()\n",
    "num_gpus = torch.cuda.device_count()\n",
    "for i in range(num_gpus):\n",
    "    print(f\"GPU {i}: {torch.cuda.get_device_name(i)}\")"
   ]
  },
  {
   "cell_type": "code",
   "execution_count": 4,
   "id": "acfba55d",
   "metadata": {
    "execution": {
     "iopub.execute_input": "2025-07-08T15:54:14.056607Z",
     "iopub.status.busy": "2025-07-08T15:54:14.056160Z",
     "iopub.status.idle": "2025-07-08T15:54:15.401121Z",
     "shell.execute_reply": "2025-07-08T15:54:15.400145Z"
    },
    "papermill": {
     "duration": 1.351285,
     "end_time": "2025-07-08T15:54:15.402886",
     "exception": false,
     "start_time": "2025-07-08T15:54:14.051601",
     "status": "completed"
    },
    "tags": []
   },
   "outputs": [],
   "source": [
    "import torch\n",
    "from torch.utils.data import TensorDataset, DataLoader\n",
    "import pandas as pd\n",
    "import matplotlib.pyplot as plt\n",
    "from sklearn.metrics import precision_score, recall_score, f1_score, accuracy_score\n",
    "\n",
    "torch.manual_seed(42)\n",
    "\n",
    "class nn_wrapper:\n",
    "    class neural_network(torch.nn.Module):\n",
    "        def __init__(self, input_size: int, output_size: int):\n",
    "            \"\"\"\n",
    "            Much deeper feed-forward neural network for classification.\n",
    "            \"\"\"\n",
    "            super().__init__()\n",
    "            self.fc1 = torch.nn.Linear(input_size, 2048)\n",
    "            self.bn1 = torch.nn.BatchNorm1d(2048)\n",
    "            self.dropout1 = torch.nn.Dropout(0.4)\n",
    "    \n",
    "            self.fc2 = torch.nn.Linear(2048, 2048)\n",
    "            self.bn2 = torch.nn.BatchNorm1d(2048)\n",
    "            self.dropout2 = torch.nn.Dropout(0.4)\n",
    "    \n",
    "            self.fc3 = torch.nn.Linear(2048, 1024)\n",
    "            self.bn3 = torch.nn.BatchNorm1d(1024)\n",
    "            self.dropout3 = torch.nn.Dropout(0.4)\n",
    "    \n",
    "            self.fc4 = torch.nn.Linear(1024, 1024)\n",
    "            self.bn4 = torch.nn.BatchNorm1d(1024)\n",
    "            self.dropout4 = torch.nn.Dropout(0.4)\n",
    "    \n",
    "            self.fc5 = torch.nn.Linear(1024, 512)\n",
    "            self.bn5 = torch.nn.BatchNorm1d(512)\n",
    "            self.dropout5 = torch.nn.Dropout(0.3)\n",
    "    \n",
    "            self.fc6 = torch.nn.Linear(512, 512)\n",
    "            self.bn6 = torch.nn.BatchNorm1d(512)\n",
    "            self.dropout6 = torch.nn.Dropout(0.3)\n",
    "    \n",
    "            self.fc7 = torch.nn.Linear(512, 256)\n",
    "            self.bn7 = torch.nn.BatchNorm1d(256)\n",
    "            self.dropout7 = torch.nn.Dropout(0.2)\n",
    "    \n",
    "            self.fc8 = torch.nn.Linear(256, 128)\n",
    "            self.bn8 = torch.nn.BatchNorm1d(128)\n",
    "            self.dropout8 = torch.nn.Dropout(0.2)\n",
    "    \n",
    "            self.fc9 = torch.nn.Linear(128, 64)\n",
    "            self.bn9 = torch.nn.BatchNorm1d(64)\n",
    "            self.dropout9 = torch.nn.Dropout(0.1)\n",
    "    \n",
    "            self.fc10 = torch.nn.Linear(64, output_size)\n",
    "            self.relu = torch.nn.ReLU()\n",
    "    \n",
    "        def forward(self, x: torch.Tensor) -> torch.Tensor:\n",
    "            x = self.fc1(x)\n",
    "            x = self.bn1(x)\n",
    "            x = self.relu(x)\n",
    "            x = self.dropout1(x)\n",
    "    \n",
    "            x = self.fc2(x)\n",
    "            x = self.bn2(x)\n",
    "            x = self.relu(x)\n",
    "            x = self.dropout2(x)\n",
    "    \n",
    "            x = self.fc3(x)\n",
    "            x = self.bn3(x)\n",
    "            x = self.relu(x)\n",
    "            x = self.dropout3(x)\n",
    "    \n",
    "            x = self.fc4(x)\n",
    "            x = self.bn4(x)\n",
    "            x = self.relu(x)\n",
    "            x = self.dropout4(x)\n",
    "    \n",
    "            x = self.fc5(x)\n",
    "            x = self.bn5(x)\n",
    "            x = self.relu(x)\n",
    "            x = self.dropout5(x)\n",
    "    \n",
    "            x = self.fc6(x)\n",
    "            x = self.bn6(x)\n",
    "            x = self.relu(x)\n",
    "            x = self.dropout6(x)\n",
    "    \n",
    "            x = self.fc7(x)\n",
    "            x = self.bn7(x)\n",
    "            x = self.relu(x)\n",
    "            x = self.dropout7(x)\n",
    "    \n",
    "            x = self.fc8(x)\n",
    "            x = self.bn8(x)\n",
    "            x = self.relu(x)\n",
    "            x = self.dropout8(x)\n",
    "    \n",
    "            x = self.fc9(x)\n",
    "            x = self.bn9(x)\n",
    "            x = self.relu(x)\n",
    "            x = self.dropout9(x)\n",
    "    \n",
    "            x = self.fc10(x)\n",
    "            return x\n",
    "            \n",
    "    def __init__(self, train_data: pd.DataFrame, test_data: pd.DataFrame):\n",
    "        \"\"\"\n",
    "        Initializes the wrapper, splits data, and sets up the model, loss, and optimizer.\n",
    "        \"\"\"\n",
    "        self.device = self.check_device()\n",
    "\n",
    "        self.train_data = train_data\n",
    "        self.columns = train_data.columns\n",
    "        self.test_data = test_data\n",
    "        self.test_data_index = test_data.index\n",
    "        self.test_data = self.test_data.apply(pd.to_numeric, errors='raise')\n",
    "        self.test_data = torch.tensor(test_data.values, dtype=torch.float32)\n",
    "\n",
    "        if self.device != \"cpu\":\n",
    "            self.test_data = self.test_data.to(self.device)\n",
    "        \n",
    "        self.percentage = 0.8  # Percentage of data to use for training\n",
    "        self.X_train, self.y_train, self.X_validation, self.y_validation = self.train_val_split()\n",
    "\n",
    "        self.train_dataset = TensorDataset(self.X_train, self.y_train)\n",
    "        self.validation_dataset = TensorDataset(self.X_validation, self.y_validation)\n",
    "\n",
    "        self.batch_size = 512\n",
    "        self.train_loader = DataLoader(self.train_dataset, batch_size=self.batch_size, shuffle=True)\n",
    "        self.validation_loader = DataLoader(self.validation_dataset, batch_size=self.batch_size)\n",
    "\n",
    "        input_size = self.X_train.shape[1]\n",
    "        output_size = torch.unique(self.y_train).numel()\n",
    "\n",
    "        self.model = self.neural_network(input_size, output_size).to(self.device)\n",
    "        self.epochs = 100\n",
    "        self.loss_fn = torch.nn.CrossEntropyLoss()\n",
    "        self.optimizer = torch.optim.Adam(params=self.model.parameters(), lr=0.0005)\n",
    "\n",
    "        self.train_history = []\n",
    "        self.validation_history = []\n",
    "\n",
    "    def check_device(self) -> str:\n",
    "        \"\"\"\n",
    "        Checks and returns the available device: 'cuda', 'mps', or 'cpu'.\n",
    "        \"\"\"\n",
    "        if torch.cuda.is_available():\n",
    "            device = \"cuda\" # NVIDIA GPU\n",
    "        elif torch.backends.mps.is_available():\n",
    "            device = \"mps\" # Apple GPU\n",
    "        else:\n",
    "            device = \"cpu\" # Defaults to CPU if NVIDIA GPU/Apple GPU aren't available\n",
    "        print(f\"Using device: {device}\")\n",
    "        return device\n",
    "\n",
    "    def train_val_split(self) -> tuple[torch.Tensor, torch.Tensor, torch.Tensor, torch.Tensor]:\n",
    "        \"\"\"\n",
    "        Shuffles and splits the training data into training and validation sets.\n",
    "        Returns:\n",
    "            X_train, y_train, X_validation, y_validation (all as torch.Tensors)\n",
    "        \"\"\"\n",
    "\n",
    "        length = self.train_data.shape[0]\n",
    "        shuffled_data = self.train_data.sample(frac=1).reset_index(drop=True)\n",
    "\n",
    "        train_samples = int(length * self.percentage)\n",
    "\n",
    "        train_data = shuffled_data[:train_samples]\n",
    "        validation_data = shuffled_data[train_samples:]\n",
    "\n",
    "        # Assume last column is the label\n",
    "        X_train = train_data.iloc[:, :-1]\n",
    "        y_train = train_data.iloc[:, -1]\n",
    "        X_validation = validation_data.iloc[:, :-1]\n",
    "        y_validation = validation_data.iloc[:, -1]\n",
    "\n",
    "        X_train = torch.tensor(X_train.values, dtype=torch.float32)\n",
    "        y_train = torch.tensor(y_train.values, dtype=torch.long)\n",
    "        X_validation = torch.tensor(X_validation.values, dtype=torch.float32)\n",
    "        y_validation = torch.tensor(y_validation.values, dtype=torch.long)\n",
    "\n",
    "        if self.device != \"cpu\":\n",
    "            X_train = X_train.to(self.device)\n",
    "            X_validation = X_validation.to(self.device)\n",
    "            y_train = y_train.to(self.device)\n",
    "            y_validation = y_validation.to(self.device)\n",
    "\n",
    "        return X_train, y_train, X_validation, y_validation \n",
    "\n",
    "    def train(self, plot=False) -> None:\n",
    "        \"\"\"\n",
    "        Trains the neural network for a given number of epochs using mini-batches.\n",
    "        \"\"\"\n",
    "        print(\"Training...\")       \n",
    "\n",
    "        early_stopping = 0\n",
    "        prev_validation_loss_epoch = 0\n",
    "        early_stopping_limit = 5\n",
    "        epsillon = 10e-7\n",
    "\n",
    "        len_train_dataset = len(self.train_dataset)\n",
    "        len_val_dataset = len(self.validation_dataset)\n",
    "        \n",
    "        for epoch in range(self.epochs):\n",
    "            self.model.train()\n",
    "            train_loss_epoch = 0.0\n",
    "            for X_batch, y_batch in self.train_loader:\n",
    "                y_pred = self.model(X_batch)\n",
    "                train_loss = self.loss_fn(y_pred, y_batch)\n",
    "                self.optimizer.zero_grad()\n",
    "                train_loss.backward()\n",
    "                self.optimizer.step()\n",
    "                train_loss_epoch += train_loss.item() * X_batch.size(0)\n",
    "\n",
    "            train_loss_epoch /= len_train_dataset\n",
    "\n",
    "            # Validation\n",
    "            self.model.eval()\n",
    "            validation_loss_epoch = 0.0\n",
    "            with torch.inference_mode():\n",
    "                for X_batch, y_batch in self.validation_loader:\n",
    "                    validation_pred = self.model(X_batch)\n",
    "                    validation_loss = self.loss_fn(validation_pred, y_batch)\n",
    "                    validation_loss_epoch += validation_loss.item() * X_batch.size(0)\n",
    "            validation_loss_epoch /= len_val_dataset\n",
    "\n",
    "            self.train_history.append(train_loss_epoch)\n",
    "            self.validation_history.append(validation_loss_epoch)\n",
    "\n",
    "            # Early Stopping\n",
    "            if len(self.validation_history) > 1 and abs(self.validation_history[-1] - self.validation_history[-2]) < epsillon:\n",
    "                print (f\"difference: {abs(self.validation_history[-1] - self.validation_history[-2]):.8f}\")\n",
    "                early_stopping += 1\n",
    "                if early_stopping == early_stopping_limit:\n",
    "                    print (f\"The validation loss difference has been insignificant for {early_stopping_limit} times. Stopping training.\")\n",
    "                    break\n",
    "            else:\n",
    "                if early_stopping != 0:\n",
    "                    early_stopping = 0\n",
    "                    print(\"Early stopping reset.\")\n",
    "\n",
    "            if epoch % 10 == 0:\n",
    "                print(f\"Epoch: {epoch + 1} | Train loss: {train_loss_epoch:.4f} | validation loss: {validation_loss_epoch:.4f}\")\n",
    "\n",
    "        if plot:\n",
    "            plt.figure(figsize=(8, 5))\n",
    "            plt.plot(self.train_history, label=\"Train Loss\")\n",
    "            plt.plot(self.validation_history, label=\"Validation Loss\")\n",
    "            plt.xlabel(\"Epoch\")\n",
    "            plt.ylabel(\"Loss\")\n",
    "            plt.title(\"Training and Validation Loss\")\n",
    "            plt.legend()\n",
    "            plt.show()\n",
    "\n",
    "    def calculate_metrics(self) -> dict[str, float]:\n",
    "        \"\"\"\n",
    "        Calculates and prints accuracy, precision, recall, and F1-score on the validation set.\n",
    "        Returns:\n",
    "            Dictionary with metric names and values.\n",
    "        \"\"\"\n",
    "        self.model.eval()\n",
    "        with torch.inference_mode():\n",
    "            y_pred = self.model(self.X_validation)\n",
    "            _, predicted = torch.max(y_pred, 1)\n",
    "            y_true = self.y_validation.cpu().numpy()\n",
    "            y_pred_np = predicted.cpu().numpy()\n",
    "\n",
    "            accuracy = accuracy_score(y_true, y_pred_np)\n",
    "            precision = precision_score(y_true, y_pred_np, average='weighted', zero_division=0)\n",
    "            recall = recall_score(y_true, y_pred_np, average='weighted', zero_division=0)\n",
    "            f1 = f1_score(y_true, y_pred_np, average='weighted', zero_division=0)\n",
    "\n",
    "            print(\"| Metric    | Value  |\")\n",
    "            print(\"|-----------|--------|\")\n",
    "            print(f\"| Accuracy  | {accuracy:.4f} |\")\n",
    "            print(f\"| Precision | {precision:.4f} |\")\n",
    "            print(f\"| Recall    | {recall:.4f} |\")\n",
    "            print(f\"| F1-score  | {f1:.4f} |\")\n",
    "\n",
    "            return {\n",
    "                \"accuracy\": float(accuracy),\n",
    "                \"precision\": float(precision),\n",
    "                \"recall\": float(recall),\n",
    "                \"f1\": float(f1)\n",
    "            }\n",
    "        \n",
    "    def predict(self) -> pd.DataFrame:\n",
    "        \"\"\"\n",
    "        Predicts class labels for the test data.\n",
    "        Returns:\n",
    "            pd.DataFrame with predictions, indexed by the original test data index,\n",
    "            and columns for each of the top 3 predictions.\n",
    "        \"\"\"\n",
    "        self.model.eval()\n",
    "        with torch.inference_mode():\n",
    "            y_pred = self.model(self.test_data)\n",
    "            _, topk_indices = torch.topk(y_pred, k=3, dim=1)  # shape: [num_samples, 3]\n",
    "            topk_np = topk_indices.cpu().numpy()\n",
    "            df = pd.DataFrame(topk_np, index=self.test_data_index, columns=[\"Prediction_1\", \"Prediction_2\", \"Prediction_3\"])\n",
    "        return df \n",
    "    \n",
    "    def save_model(self, path: str) -> None:\n",
    "        \"\"\"\n",
    "        Saves the trained model to the specified path.\n",
    "        Args:\n",
    "            path (str): Path where the model will be saved.\n",
    "        \"\"\"\n",
    "        torch.save(self.model.state_dict(), path)\n",
    "        print(f\"Model saved to {path}\")"
   ]
  },
  {
   "cell_type": "code",
   "execution_count": 5,
   "id": "819966ce",
   "metadata": {
    "execution": {
     "iopub.execute_input": "2025-07-08T15:54:15.411605Z",
     "iopub.status.busy": "2025-07-08T15:54:15.411118Z",
     "iopub.status.idle": "2025-07-08T15:54:16.663016Z",
     "shell.execute_reply": "2025-07-08T15:54:16.662376Z"
    },
    "papermill": {
     "duration": 1.25782,
     "end_time": "2025-07-08T15:54:16.664523",
     "exception": false,
     "start_time": "2025-07-08T15:54:15.406703",
     "status": "completed"
    },
    "tags": []
   },
   "outputs": [],
   "source": [
    "train_data = pd.read_csv('/kaggle/input/playground-series-s5e6/train.csv')\n",
    "test_data = pd.read_csv('/kaggle/input/playground-series-s5e6/test.csv')"
   ]
  },
  {
   "cell_type": "code",
   "execution_count": 6,
   "id": "b9e1e67f",
   "metadata": {
    "execution": {
     "iopub.execute_input": "2025-07-08T15:54:16.672267Z",
     "iopub.status.busy": "2025-07-08T15:54:16.671771Z",
     "iopub.status.idle": "2025-07-08T15:54:16.799437Z",
     "shell.execute_reply": "2025-07-08T15:54:16.798554Z"
    },
    "papermill": {
     "duration": 0.132977,
     "end_time": "2025-07-08T15:54:16.801046",
     "exception": false,
     "start_time": "2025-07-08T15:54:16.668069",
     "status": "completed"
    },
    "tags": []
   },
   "outputs": [],
   "source": [
    "fertilizer_to_index = {}\n",
    "for index, fertilizer in enumerate(train_data[\"Fertilizer Name\"].unique()):\n",
    "    fertilizer_to_index[fertilizer] = index\n",
    "\n",
    "index_to_fertilizer = {index: fertilizer for fertilizer, index in fertilizer_to_index.items()}\n",
    "\n",
    "soil_to_index = {}\n",
    "for index, soil in enumerate(train_data[\"Soil Type\"].unique()):\n",
    "    soil_to_index[soil] = index\n",
    "\n",
    "crop_to_index = {}\n",
    "for index, crop in enumerate(train_data[\"Crop Type\"].unique()):\n",
    "    crop_to_index[crop] = index"
   ]
  },
  {
   "cell_type": "code",
   "execution_count": 7,
   "id": "7780e32c",
   "metadata": {
    "execution": {
     "iopub.execute_input": "2025-07-08T15:54:16.809076Z",
     "iopub.status.busy": "2025-07-08T15:54:16.808794Z",
     "iopub.status.idle": "2025-07-08T15:54:18.362572Z",
     "shell.execute_reply": "2025-07-08T15:54:18.361662Z"
    },
    "papermill": {
     "duration": 1.559412,
     "end_time": "2025-07-08T15:54:18.364050",
     "exception": false,
     "start_time": "2025-07-08T15:54:16.804638",
     "status": "completed"
    },
    "tags": []
   },
   "outputs": [
    {
     "name": "stderr",
     "output_type": "stream",
     "text": [
      "/tmp/ipykernel_19/4199030178.py:1: FutureWarning: Downcasting behavior in `replace` is deprecated and will be removed in a future version. To retain the old behavior, explicitly call `result.infer_objects(copy=False)`. To opt-in to the future behavior, set `pd.set_option('future.no_silent_downcasting', True)`\n",
      "  train_data = train_data.replace({\n",
      "/tmp/ipykernel_19/4199030178.py:7: FutureWarning: Downcasting behavior in `replace` is deprecated and will be removed in a future version. To retain the old behavior, explicitly call `result.infer_objects(copy=False)`. To opt-in to the future behavior, set `pd.set_option('future.no_silent_downcasting', True)`\n",
      "  test_data = test_data.replace({\n"
     ]
    }
   ],
   "source": [
    "train_data = train_data.replace({\n",
    "    \"Fertilizer Name\": fertilizer_to_index,\n",
    "    \"Soil Type\": soil_to_index,\n",
    "    \"Crop Type\": crop_to_index\n",
    "    })\n",
    "\n",
    "test_data = test_data.replace({\n",
    "    \"Soil Type\": soil_to_index,\n",
    "    \"Crop Type\": crop_to_index,})"
   ]
  },
  {
   "cell_type": "code",
   "execution_count": 8,
   "id": "5157c2b3",
   "metadata": {
    "execution": {
     "iopub.execute_input": "2025-07-08T15:54:18.372086Z",
     "iopub.status.busy": "2025-07-08T15:54:18.371814Z",
     "iopub.status.idle": "2025-07-08T15:54:18.400801Z",
     "shell.execute_reply": "2025-07-08T15:54:18.400145Z"
    },
    "papermill": {
     "duration": 0.03447,
     "end_time": "2025-07-08T15:54:18.402126",
     "exception": false,
     "start_time": "2025-07-08T15:54:18.367656",
     "status": "completed"
    },
    "tags": []
   },
   "outputs": [],
   "source": [
    "train_data = train_data.drop(['id'], axis=1)\n",
    "test_data_id = test_data['id']\n",
    "test_data = test_data.drop(['id'], axis=1)"
   ]
  },
  {
   "cell_type": "code",
   "execution_count": 9,
   "id": "e6c84a25",
   "metadata": {
    "execution": {
     "iopub.execute_input": "2025-07-08T15:54:18.409992Z",
     "iopub.status.busy": "2025-07-08T15:54:18.409731Z",
     "iopub.status.idle": "2025-07-08T15:54:23.655747Z",
     "shell.execute_reply": "2025-07-08T15:54:23.654841Z"
    },
    "papermill": {
     "duration": 5.251692,
     "end_time": "2025-07-08T15:54:23.657351",
     "exception": false,
     "start_time": "2025-07-08T15:54:18.405659",
     "status": "completed"
    },
    "tags": []
   },
   "outputs": [
    {
     "name": "stdout",
     "output_type": "stream",
     "text": [
      "Using device: cuda\n"
     ]
    }
   ],
   "source": [
    "nn_model = nn_wrapper(train_data, test_data)"
   ]
  },
  {
   "cell_type": "code",
   "execution_count": 10,
   "id": "4053a3fa",
   "metadata": {
    "execution": {
     "iopub.execute_input": "2025-07-08T15:54:23.665321Z",
     "iopub.status.busy": "2025-07-08T15:54:23.664912Z",
     "iopub.status.idle": "2025-07-08T16:20:17.667660Z",
     "shell.execute_reply": "2025-07-08T16:20:17.666850Z"
    },
    "papermill": {
     "duration": 1554.012978,
     "end_time": "2025-07-08T16:20:17.674008",
     "exception": false,
     "start_time": "2025-07-08T15:54:23.661030",
     "status": "completed"
    },
    "tags": []
   },
   "outputs": [
    {
     "name": "stdout",
     "output_type": "stream",
     "text": [
      "Training...\n",
      "Epoch: 1 | Train loss: 1.9499 | validation loss: 1.9427\n",
      "Epoch: 11 | Train loss: 1.9416 | validation loss: 1.9417\n",
      "Epoch: 21 | Train loss: 1.9407 | validation loss: 1.9415\n",
      "Epoch: 31 | Train loss: 1.9400 | validation loss: 1.9411\n",
      "Epoch: 41 | Train loss: 1.9390 | validation loss: 1.9410\n",
      "Epoch: 51 | Train loss: 1.9380 | validation loss: 1.9410\n",
      "Epoch: 61 | Train loss: 1.9370 | validation loss: 1.9408\n",
      "Epoch: 71 | Train loss: 1.9359 | validation loss: 1.9404\n",
      "Epoch: 81 | Train loss: 1.9347 | validation loss: 1.9406\n",
      "Epoch: 91 | Train loss: 1.9334 | validation loss: 1.9411\n"
     ]
    },
    {
     "data": {
      "image/png": "[encoded data removed]",
      "text/plain": [
       "<Figure size 800x500 with 1 Axes>"
      ]
     },
     "metadata": {},
     "output_type": "display_data"
    }
   ],
   "source": [
    "nn_model.train(plot=True)"
   ]
  },
  {
   "cell_type": "code",
   "execution_count": 11,
   "id": "e42027e7",
   "metadata": {
    "execution": {
     "iopub.execute_input": "2025-07-08T16:20:17.684493Z",
     "iopub.status.busy": "2025-07-08T16:20:17.684216Z",
     "iopub.status.idle": "2025-07-08T16:20:18.131890Z",
     "shell.execute_reply": "2025-07-08T16:20:18.131172Z"
    },
    "papermill": {
     "duration": 0.454575,
     "end_time": "2025-07-08T16:20:18.133007",
     "exception": false,
     "start_time": "2025-07-08T16:20:17.678432",
     "status": "completed"
    },
    "tags": []
   },
   "outputs": [
    {
     "name": "stdout",
     "output_type": "stream",
     "text": [
      "| Metric    | Value  |\n",
      "|-----------|--------|\n",
      "| Accuracy  | 0.1628 |\n",
      "| Precision | 0.1587 |\n",
      "| Recall    | 0.1628 |\n",
      "| F1-score  | 0.1473 |\n"
     ]
    },
    {
     "data": {
      "text/plain": [
       "{'accuracy': 0.1628,\n",
       " 'precision': 0.15871120910926775,\n",
       " 'recall': 0.1628,\n",
       " 'f1': 0.14731772000868612}"
      ]
     },
     "execution_count": 11,
     "metadata": {},
     "output_type": "execute_result"
    }
   ],
   "source": [
    "nn_model.calculate_metrics()"
   ]
  },
  {
   "cell_type": "code",
   "execution_count": 12,
   "id": "9bcade4f",
   "metadata": {
    "execution": {
     "iopub.execute_input": "2025-07-08T16:20:18.142766Z",
     "iopub.status.busy": "2025-07-08T16:20:18.142556Z",
     "iopub.status.idle": "2025-07-08T16:20:18.822837Z",
     "shell.execute_reply": "2025-07-08T16:20:18.822219Z"
    },
    "papermill": {
     "duration": 0.68654,
     "end_time": "2025-07-08T16:20:18.824144",
     "exception": false,
     "start_time": "2025-07-08T16:20:18.137604",
     "status": "completed"
    },
    "tags": []
   },
   "outputs": [],
   "source": [
    "predictions = nn_model.predict()"
   ]
  },
  {
   "cell_type": "code",
   "execution_count": 13,
   "id": "d9b03ae9",
   "metadata": {
    "execution": {
     "iopub.execute_input": "2025-07-08T16:20:18.834879Z",
     "iopub.status.busy": "2025-07-08T16:20:18.834282Z",
     "iopub.status.idle": "2025-07-08T16:20:19.863691Z",
     "shell.execute_reply": "2025-07-08T16:20:19.863002Z"
    },
    "papermill": {
     "duration": 1.036167,
     "end_time": "2025-07-08T16:20:19.865218",
     "exception": false,
     "start_time": "2025-07-08T16:20:18.829051",
     "status": "completed"
    },
    "tags": []
   },
   "outputs": [],
   "source": [
    "predictions = predictions.replace(index_to_fertilizer)\n",
    "predictions[\"Fertilizer Name\"] = predictions.astype(str).agg(' '.join, axis=1)\n",
    "predictions = predictions[[\"Fertilizer Name\"]]"
   ]
  },
  {
   "cell_type": "code",
   "execution_count": 14,
   "id": "df8aaf97",
   "metadata": {
    "execution": {
     "iopub.execute_input": "2025-07-08T16:20:19.875709Z",
     "iopub.status.busy": "2025-07-08T16:20:19.875450Z",
     "iopub.status.idle": "2025-07-08T16:20:19.879801Z",
     "shell.execute_reply": "2025-07-08T16:20:19.879243Z"
    },
    "papermill": {
     "duration": 0.010805,
     "end_time": "2025-07-08T16:20:19.880884",
     "exception": false,
     "start_time": "2025-07-08T16:20:19.870079",
     "status": "completed"
    },
    "tags": []
   },
   "outputs": [],
   "source": [
    "predictions.insert(0, \"id\", test_data_id.values)"
   ]
  },
  {
   "cell_type": "code",
   "execution_count": 15,
   "id": "cca6f5dc",
   "metadata": {
    "execution": {
     "iopub.execute_input": "2025-07-08T16:20:19.890914Z",
     "iopub.status.busy": "2025-07-08T16:20:19.890724Z",
     "iopub.status.idle": "2025-07-08T16:20:19.908130Z",
     "shell.execute_reply": "2025-07-08T16:20:19.907410Z"
    },
    "papermill": {
     "duration": 0.023605,
     "end_time": "2025-07-08T16:20:19.909310",
     "exception": false,
     "start_time": "2025-07-08T16:20:19.885705",
     "status": "completed"
    },
    "tags": []
   },
   "outputs": [
    {
     "data": {
      "text/html": [
       "<div>\n",
       "<style scoped>\n",
       "    .dataframe tbody tr th:only-of-type {\n",
       "        vertical-align: middle;\n",
       "    }\n",
       "\n",
       "    .dataframe tbody tr th {\n",
       "        vertical-align: top;\n",
       "    }\n",
       "\n",
       "    .dataframe thead th {\n",
       "        text-align: right;\n",
       "    }\n",
       "</style>\n",
       "<table border=\"1\" class=\"dataframe\">\n",
       "  <thead>\n",
       "    <tr style=\"text-align: right;\">\n",
       "      <th></th>\n",
       "      <th>id</th>\n",
       "      <th>Fertilizer Name</th>\n",
       "    </tr>\n",
       "  </thead>\n",
       "  <tbody>\n",
       "    <tr>\n",
       "      <th>0</th>\n",
       "      <td>750000</td>\n",
       "      <td>DAP 20-20 28-28</td>\n",
       "    </tr>\n",
       "    <tr>\n",
       "      <th>1</th>\n",
       "      <td>750001</td>\n",
       "      <td>17-17-17 14-35-14 28-28</td>\n",
       "    </tr>\n",
       "    <tr>\n",
       "      <th>2</th>\n",
       "      <td>750002</td>\n",
       "      <td>20-20 10-26-26 DAP</td>\n",
       "    </tr>\n",
       "    <tr>\n",
       "      <th>3</th>\n",
       "      <td>750003</td>\n",
       "      <td>14-35-14 10-26-26 17-17-17</td>\n",
       "    </tr>\n",
       "    <tr>\n",
       "      <th>4</th>\n",
       "      <td>750004</td>\n",
       "      <td>20-20 10-26-26 17-17-17</td>\n",
       "    </tr>\n",
       "  </tbody>\n",
       "</table>\n",
       "</div>"
      ],
      "text/plain": [
       "       id             Fertilizer Name\n",
       "0  750000             DAP 20-20 28-28\n",
       "1  750001     17-17-17 14-35-14 28-28\n",
       "2  750002          20-20 10-26-26 DAP\n",
       "3  750003  14-35-14 10-26-26 17-17-17\n",
       "4  750004     20-20 10-26-26 17-17-17"
      ]
     },
     "execution_count": 15,
     "metadata": {},
     "output_type": "execute_result"
    }
   ],
   "source": [
    "predictions.head()"
   ]
  },
  {
   "cell_type": "code",
   "execution_count": 16,
   "id": "2b4f597a",
   "metadata": {
    "execution": {
     "iopub.execute_input": "2025-07-08T16:20:19.919388Z",
     "iopub.status.busy": "2025-07-08T16:20:19.919160Z",
     "iopub.status.idle": "2025-07-08T16:20:20.255865Z",
     "shell.execute_reply": "2025-07-08T16:20:20.255165Z"
    },
    "papermill": {
     "duration": 0.343027,
     "end_time": "2025-07-08T16:20:20.257197",
     "exception": false,
     "start_time": "2025-07-08T16:20:19.914170",
     "status": "completed"
    },
    "tags": []
   },
   "outputs": [],
   "source": [
    "predictions.to_csv('/kaggle/working/res.csv',index=False)"
   ]
  }
 ],
 "metadata": {
  "kaggle": {
   "accelerator": "none",
   "dataSources": [
    {
     "databundleVersionId": 12184666,
     "sourceId": 91717,
     "sourceType": "competition"
    }
   ],
   "dockerImageVersionId": 31041,
   "isGpuEnabled": false,
   "isInternetEnabled": true,
   "language": "python",
   "sourceType": "notebook"
  },
  "kernelspec": {
   "display_name": "Python 3",
   "language": "python",
   "name": "python3"
  },
  "language_info": {
   "codemirror_mode": {
    "name": "ipython",
    "version": 3
   },
   "file_extension": ".py",
   "mimetype": "text/x-python",
   "name": "python",
   "nbconvert_exporter": "python",
   "pygments_lexer": "ipython3",
   "version": "3.11.11"
  },
  "papermill": {
   "default_parameters": {},
   "duration": 1580.036923,
   "end_time": "2025-07-08T16:20:23.372629",
   "environment_variables": {},
   "exception": null,
   "input_path": "__notebook__.ipynb",
   "output_path": "__notebook__.ipynb",
   "parameters": {},
   "start_time": "2025-07-08T15:54:03.335706",
   "version": "2.6.0"
  }
 },
 "nbformat": 4,
 "nbformat_minor": 5
}
