{
 "cells": [
  {
   "cell_type": "markdown",
   "id": "6819c4ca",
   "metadata": {},
   "source": [
    "## 0. Imports"
   ]
  },
  {
   "cell_type": "code",
   "execution_count": 1,
   "id": "e587f60a",
   "metadata": {},
   "outputs": [],
   "source": [
    "import pandas as pd\n",
    "import neural_network"
   ]
  },
  {
   "cell_type": "code",
   "execution_count": 2,
   "id": "b04995d3",
   "metadata": {},
   "outputs": [],
   "source": [
    "train_data = pd.read_csv('train.csv')\n",
    "test_data = pd.read_csv('test.csv')"
   ]
  },
  {
   "cell_type": "markdown",
   "id": "822e6a56",
   "metadata": {},
   "source": [
    "## 1. EDA"
   ]
  },
  {
   "cell_type": "markdown",
   "id": "c033ce20",
   "metadata": {},
   "source": [
    "### 1.1 Encoding"
   ]
  },
  {
   "cell_type": "code",
   "execution_count": 3,
   "id": "1c9c2f45",
   "metadata": {},
   "outputs": [],
   "source": [
    "# train_data.head()"
   ]
  },
  {
   "cell_type": "code",
   "execution_count": 4,
   "id": "c0de434f",
   "metadata": {},
   "outputs": [],
   "source": [
    "fertilizer_to_index = {}\n",
    "for index, fertilizer in enumerate(train_data[\"Fertilizer Name\"].unique()):\n",
    "    fertilizer_to_index[fertilizer] = index\n",
    "\n",
    "index_to_fertilizer = {index: fertilizer for fertilizer, index in fertilizer_to_index.items()}"
   ]
  },
  {
   "cell_type": "code",
   "execution_count": 5,
   "id": "bb54c13a",
   "metadata": {},
   "outputs": [],
   "source": [
    "soil_to_index = {}\n",
    "for index, soil in enumerate(train_data[\"Soil Type\"].unique()):\n",
    "    soil_to_index[soil] = index"
   ]
  },
  {
   "cell_type": "code",
   "execution_count": 6,
   "id": "b62fa548",
   "metadata": {},
   "outputs": [],
   "source": [
    "crop_to_index = {}\n",
    "for index, crop in enumerate(train_data[\"Crop Type\"].unique()):\n",
    "    crop_to_index[crop] = index"
   ]
  },
  {
   "cell_type": "code",
   "execution_count": 7,
   "id": "3f2fea56",
   "metadata": {},
   "outputs": [
    {
     "name": "stderr",
     "output_type": "stream",
     "text": [
      "C:\\Users\\arbel\\AppData\\Local\\Temp\\ipykernel_39816\\479826329.py:1: FutureWarning: Downcasting behavior in `replace` is deprecated and will be removed in a future version. To retain the old behavior, explicitly call `result.infer_objects(copy=False)`. To opt-in to the future behavior, set `pd.set_option('future.no_silent_downcasting', True)`\n",
      "  train_data = train_data.replace({\n"
     ]
    }
   ],
   "source": [
    "train_data = train_data.replace({\n",
    "    \"Fertilizer Name\": fertilizer_to_index,\n",
    "    \"Soil Type\": soil_to_index,\n",
    "    \"Crop Type\": crop_to_index\n",
    "    })"
   ]
  },
  {
   "cell_type": "code",
   "execution_count": 8,
   "id": "a5d6e3ce",
   "metadata": {},
   "outputs": [
    {
     "name": "stderr",
     "output_type": "stream",
     "text": [
      "C:\\Users\\arbel\\AppData\\Local\\Temp\\ipykernel_39816\\2907696654.py:1: FutureWarning: Downcasting behavior in `replace` is deprecated and will be removed in a future version. To retain the old behavior, explicitly call `result.infer_objects(copy=False)`. To opt-in to the future behavior, set `pd.set_option('future.no_silent_downcasting', True)`\n",
      "  test_data = test_data.replace({\n"
     ]
    }
   ],
   "source": [
    "test_data = test_data.replace({\n",
    "    \"Soil Type\": soil_to_index,\n",
    "    \"Crop Type\": crop_to_index,})"
   ]
  },
  {
   "cell_type": "markdown",
   "id": "2f1afc2e",
   "metadata": {},
   "source": [
    "### 1.2 Missing data"
   ]
  },
  {
   "cell_type": "code",
   "execution_count": 9,
   "id": "fe01719b",
   "metadata": {},
   "outputs": [],
   "source": [
    "# train_data.isna().sum()"
   ]
  },
  {
   "cell_type": "markdown",
   "id": "a45e11d7",
   "metadata": {},
   "source": [
    "### 1.3 Remove id column"
   ]
  },
  {
   "cell_type": "code",
   "execution_count": 10,
   "id": "f462d0b8",
   "metadata": {},
   "outputs": [],
   "source": [
    "train_data = train_data.drop(['id'], axis=1)\n",
    "test_data = test_data.drop(['id'], axis=1)"
   ]
  },
  {
   "cell_type": "markdown",
   "id": "da1b76dd",
   "metadata": {},
   "source": [
    "### 1.4 Distributions"
   ]
  },
  {
   "cell_type": "code",
   "execution_count": 11,
   "id": "562622fe",
   "metadata": {},
   "outputs": [],
   "source": [
    "# fig, axes = plt.subplots(3, 3, figsize=(18, 12))\n",
    "# columns = train_data.columns\n",
    "# for i, col in enumerate(columns):\n",
    "#     ax = axes[i // 3, i % 3]\n",
    "#     train_data[col].hist(ax=ax, bins=30)\n",
    "#     ax.set_title(col)\n",
    "#     ax.set_xlabel(col)\n",
    "#     ax.set_ylabel('Frequency')\n",
    "\n",
    "# plt.tight_layout()\n",
    "# plt.show()"
   ]
  },
  {
   "cell_type": "markdown",
   "id": "a7d0e31a",
   "metadata": {},
   "source": [
    "## 2. Using my Neural Network class"
   ]
  },
  {
   "cell_type": "code",
   "execution_count": 12,
   "id": "f42e58ff",
   "metadata": {},
   "outputs": [
    {
     "name": "stdout",
     "output_type": "stream",
     "text": [
      "Using device: cpu\n"
     ]
    }
   ],
   "source": [
    "nn_model = neural_network.nn_wrapper(train_data, test_data)"
   ]
  },
  {
   "cell_type": "code",
   "execution_count": null,
   "id": "32d306b6",
   "metadata": {},
   "outputs": [
    {
     "name": "stdout",
     "output_type": "stream",
     "text": [
      "Training...\n"
     ]
    }
   ],
   "source": [
    "nn_model.train(plot=True)"
   ]
  },
  {
   "cell_type": "code",
   "execution_count": null,
   "id": "59862806",
   "metadata": {},
   "outputs": [
    {
     "name": "stdout",
     "output_type": "stream",
     "text": [
      "| Metric    | Value    |\n",
      "|-----------|----------|\n",
      "| Accuracy  | 0.1519 |\n",
      "| Precision | 0.1515 |\n",
      "| Recall    | 0.1519 |\n",
      "| F1-score  | 0.1049 |\n"
     ]
    },
    {
     "data": {
      "text/plain": [
       "{'accuracy': 0.15192,\n",
       " 'precision': 0.15149189820035225,\n",
       " 'recall': 0.15192,\n",
       " 'f1': 0.10492404106263968}"
      ]
     },
     "execution_count": 15,
     "metadata": {},
     "output_type": "execute_result"
    }
   ],
   "source": [
    "nn_model.calculate_metrics()"
   ]
  },
  {
   "cell_type": "code",
   "execution_count": null,
   "id": "c65b19a1",
   "metadata": {},
   "outputs": [],
   "source": [
    "predictions = nn_model.predict()\n"
   ]
  },
  {
   "cell_type": "code",
   "execution_count": null,
   "id": "d27f03f0",
   "metadata": {},
   "outputs": [],
   "source": [
    "predictions = predictions.replace(index_to_fertilizer)"
   ]
  },
  {
   "cell_type": "code",
   "execution_count": null,
   "id": "e38ccca4",
   "metadata": {},
   "outputs": [
    {
     "data": {
      "text/plain": [
       "0       28-28\n",
       "1       28-28\n",
       "2    14-35-14\n",
       "3       28-28\n",
       "4       20-20\n",
       "Name: Prediction, dtype: object"
      ]
     },
     "execution_count": 18,
     "metadata": {},
     "output_type": "execute_result"
    }
   ],
   "source": [
    "predictions.head()"
   ]
  },
  {
   "cell_type": "code",
   "execution_count": null,
   "id": "b75895a3",
   "metadata": {},
   "outputs": [],
   "source": []
  }
 ],
 "metadata": {
  "kernelspec": {
   "display_name": "Python 3",
   "language": "python",
   "name": "python3"
  },
  "language_info": {
   "codemirror_mode": {
    "name": "ipython",
    "version": 3
   },
   "file_extension": ".py",
   "mimetype": "text/x-python",
   "name": "python",
   "nbconvert_exporter": "python",
   "pygments_lexer": "ipython3",
   "version": "3.13.1"
  }
 },
 "nbformat": 4,
 "nbformat_minor": 5
}
